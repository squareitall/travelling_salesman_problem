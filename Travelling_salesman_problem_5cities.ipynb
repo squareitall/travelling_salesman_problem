{
 "cells": [
  {
   "cell_type": "code",
   "execution_count": 1,
   "metadata": {},
   "outputs": [],
   "source": [
    "import numpy as np\n",
    "import gurobipy as gp"
   ]
  },
  {
   "cell_type": "code",
   "execution_count": 2,
   "metadata": {},
   "outputs": [],
   "source": [
    "M = 1000#either set xii travelling from city i to i as 0 or assign high cost value to that decision variable in minimization problem\n",
    "N = 5#number of cities\n",
    "obj = np.array([M,132,217,164,58,132,M,290,201,79,217,290,M,113,303,164,201,113,M,196,58,79,303,196,M]+\n",
    "               [0]*N)#N uis for avoiding loops, need to ponder more i thought it will n-1 in number"
   ]
  },
  {
   "cell_type": "code",
   "execution_count": 30,
   "metadata": {},
   "outputs": [],
   "source": [
    "A = np.zeros((2*N + (N-1)**2 - (N-1),\n",
    "              N**2 + N))\n",
    "b = np.zeros(2*N + (N-1)**2 - (N-1))#Arrival and departure plus no sublooping --> N+N+ ((N-1)^2-(N-1))\n",
    "direction = np.array(['']*(2*N + (N-1)**2 - (N-1)))"
   ]
  },
  {
   "cell_type": "code",
   "execution_count": 31,
   "metadata": {},
   "outputs": [
    {
     "data": {
      "text/plain": [
       "array([0, 1, 2, 3, 4])"
      ]
     },
     "execution_count": 31,
     "metadata": {},
     "output_type": "execute_result"
    }
   ],
   "source": [
    "ind_vec = np.array(range(N))#iterator for iterable range\n",
    "ind_vec"
   ]
  },
  {
   "cell_type": "code",
   "execution_count": 53,
   "metadata": {},
   "outputs": [],
   "source": [
    "ind_vec = np.array(range(N))#Can use broadcasting addition rule array + constant =(5,) operator (1,)=(5,)\n",
    "row = 0\n",
    "for j in range(N):\n",
    "#     A[row,j*N + ind_vec] = 1\n",
    "    A[row,j*N:(((j+1)*N))] = 1\n",
    "    b[row] = 1\n",
    "    direction[row] = '='\n",
    "    row+=1\n",
    "# A"
   ]
  },
  {
   "cell_type": "code",
   "execution_count": 54,
   "metadata": {},
   "outputs": [
    {
     "data": {
      "text/plain": [
       "array([1., 1., 1., 1., 1.])"
      ]
     },
     "execution_count": 54,
     "metadata": {},
     "output_type": "execute_result"
    }
   ],
   "source": [
    "ii=1\n",
    "# A[0,i:5*5-i:5]\n",
    "A[5,0:N*N-(N-0)+1:N]#go from first city variable till last city pair decision variable in steps of number of cities\n",
    "\n",
    "# ind_vec*N +i #This is a row slider\n",
    "# ind_vec +N*i #This is a Column slider"
   ]
  },
  {
   "cell_type": "code",
   "execution_count": 55,
   "metadata": {},
   "outputs": [
    {
     "data": {
      "text/plain": [
       "array([[1., 0., 0., 0., 0., 1., 0., 0., 0., 0., 1., 0., 0., 0., 0., 1.,\n",
       "        0., 0., 0., 0., 1., 0., 0., 0., 0., 0., 0., 0., 0., 0.],\n",
       "       [0., 1., 0., 0., 0., 0., 1., 0., 0., 0., 0., 1., 0., 0., 0., 0.,\n",
       "        1., 0., 0., 0., 0., 1., 0., 0., 0., 0., 0., 0., 0., 0.],\n",
       "       [0., 0., 1., 0., 0., 0., 0., 1., 0., 0., 0., 0., 1., 0., 0., 0.,\n",
       "        0., 1., 0., 0., 0., 0., 1., 0., 0., 0., 0., 0., 0., 0.],\n",
       "       [0., 0., 0., 1., 0., 0., 0., 0., 1., 0., 0., 0., 0., 1., 0., 0.,\n",
       "        0., 0., 1., 0., 0., 0., 0., 1., 0., 0., 0., 0., 0., 0.],\n",
       "       [0., 0., 0., 0., 1., 0., 0., 0., 0., 1., 0., 0., 0., 0., 1., 0.,\n",
       "        0., 0., 0., 1., 0., 0., 0., 0., 1., 0., 0., 0., 0., 0.]])"
      ]
     },
     "execution_count": 55,
     "metadata": {},
     "output_type": "execute_result"
    }
   ],
   "source": [
    "for i in range(N):\n",
    "    A[row,ind_vec*N +i] = 1\n",
    "#     A[row,i:N*N-(N-i)+1:N]=-1\n",
    "    b[row] = 1\n",
    "    direction[row] = '='\n",
    "    row+=1\n",
    "    \n",
    "A[5:10]"
   ]
  },
  {
   "cell_type": "code",
   "execution_count": 56,
   "metadata": {},
   "outputs": [],
   "source": [
    "for i in range(1,5):\n",
    "    for j in range(1,5):\n",
    "        if i != j:\n",
    "            A[row,[N**2+i,N**2+j,j*N+i]] = [1,-1,N]\n",
    "            b[row] = N-1\n",
    "            direction[row] = '<'\n",
    "            row+=1"
   ]
  },
  {
   "cell_type": "code",
   "execution_count": null,
   "metadata": {},
   "outputs": [],
   "source": []
  },
  {
   "cell_type": "code",
   "execution_count": 57,
   "metadata": {},
   "outputs": [
    {
     "name": "stdout",
     "output_type": "stream",
     "text": [
      "Restricted license - for non-production use only - expires 2022-01-13\n"
     ]
    }
   ],
   "source": [
    "tspMod = gp.Model()\n",
    "tspMod_x = tspMod.addMVar(N**2 + N,vtype=['B']*25+['C']*5) \n",
    "tspMod_con = tspMod.addMConstrs(A, tspMod_x, direction, b)\n",
    "tspMod.setMObjective(None,obj,0,sense=gp.GRB.MINIMIZE)\n",
    "\n",
    "tspMod.Params.OutputFlag = 0 \n",
    "tspMod.optimize()"
   ]
  },
  {
   "cell_type": "code",
   "execution_count": 58,
   "metadata": {},
   "outputs": [
    {
     "data": {
      "text/plain": [
       "array([-0.,  1., -0., -0., -0., -0., -0.,  1., -0., -0., -0., -0., -0.,\n",
       "        1., -0., -0., -0., -0., -0.,  1.,  1., -0., -0., -0., -0.,  0.,\n",
       "        4.,  2.,  1.,  4.])"
      ]
     },
     "execution_count": 58,
     "metadata": {},
     "output_type": "execute_result"
    }
   ],
   "source": [
    "tspMod_x.x"
   ]
  },
  {
   "cell_type": "code",
   "execution_count": 91,
   "metadata": {},
   "outputs": [
    {
     "data": {
      "text/plain": [
       "array([[1, 2, 3, 4, 0]], dtype=int64)"
      ]
     },
     "execution_count": 91,
     "metadata": {},
     "output_type": "execute_result"
    }
   ],
   "source": [
    "tspMod.objval\n",
    "aa=tspMod_x.x[:N*N]\n",
    "np.where(aa==1)\n",
    "# tspMod_x.x\n",
    "# aa\n",
    "\n",
    "obj[np.where(aa==1)]\n",
    "np.mod(np.where(aa==1),5)\n",
    "\n",
    "\n",
    "\n"
   ]
  },
  {
   "cell_type": "code",
   "execution_count": 92,
   "metadata": {},
   "outputs": [
    {
     "name": "stdout",
     "output_type": "stream",
     "text": [
      "Start in city 0.\n",
      "Then go to city 1, traveling 132 miles along the way.\n",
      "Then go to city 2, traveling 290 miles along the way.\n",
      "Then go to city 3, traveling 113 miles along the way.\n",
      "Then go to city 4, traveling 196 miles along the way.\n",
      "Then go to city 0, traveling 58 miles along the way.\n",
      "For a total of 789 miles.\n"
     ]
    }
   ],
   "source": [
    "where = 0\n",
    "miles_traveled = 0\n",
    "print('Start in city 0.')\n",
    "for city in range(N):\n",
    "    where_new = np.where(tspMod_x.x[(where*N):((where+1)*N)])[0][0]#where tells about the city as every 5 based vector column is considered everytime\n",
    "    dist = obj[where*N+where_new]\n",
    "    miles_traveled += dist\n",
    "    print('Then go to city '+str(where_new)+', traveling '+str(dist)+' miles along the way.')\n",
    "    where = where_new\n",
    "#     break\n",
    "print('For a total of '+str(miles_traveled)+' miles.')"
   ]
  },
  {
   "cell_type": "code",
   "execution_count": null,
   "metadata": {},
   "outputs": [],
   "source": []
  },
  {
   "cell_type": "code",
   "execution_count": null,
   "metadata": {},
   "outputs": [],
   "source": []
  },
  {
   "cell_type": "code",
   "execution_count": null,
   "metadata": {},
   "outputs": [],
   "source": []
  },
  {
   "cell_type": "code",
   "execution_count": null,
   "metadata": {},
   "outputs": [],
   "source": []
  }
 ],
 "metadata": {
  "kernelspec": {
   "display_name": "Python 3",
   "language": "python",
   "name": "python3"
  },
  "language_info": {
   "codemirror_mode": {
    "name": "ipython",
    "version": 3
   },
   "file_extension": ".py",
   "mimetype": "text/x-python",
   "name": "python",
   "nbconvert_exporter": "python",
   "pygments_lexer": "ipython3",
   "version": "3.8.8"
  }
 },
 "nbformat": 4,
 "nbformat_minor": 2
}
