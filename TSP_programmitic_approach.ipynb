{
  "nbformat": 4,
  "nbformat_minor": 0,
  "metadata": {
    "colab": {
      "name": "TSP_programmitic_approach.ipynb",
      "provenance": []
    },
    "kernelspec": {
      "name": "python3",
      "display_name": "Python 3"
    },
    "language_info": {
      "name": "python"
    }
  },
  "cells": [
    {
      "cell_type": "code",
      "execution_count": 1,
      "metadata": {
        "id": "XQjMlR9OyabQ"
      },
      "outputs": [],
      "source": [
        "import numpy as np\n"
      ]
    },
    {
      "cell_type": "code",
      "source": [
        "dist = [[0, 10, 15, 20], [10, 0, 35, 25],\n",
        "            [15, 35, 0, 30], [20, 25, 30, 0]]\n",
        "\n",
        "\n",
        "# M = 1000#either set xii travelling from city i to i as 0 or assign high cost value to that decision variable in minimization problem\n",
        "# N = 5#number of cities\n",
        "# dist = np.array([M,132,217,164,58,132,M,290,201,79,217,290,M,113,303,164,201,113,M,196,58,79,303,196,M])\n",
        "\n",
        "# dist=dist.reshape(5,5)\n",
        "# dist\n",
        "               \n"
      ],
      "metadata": {
        "id": "MhMEqeRgyzNP"
      },
      "execution_count": 22,
      "outputs": []
    },
    {
      "cell_type": "code",
      "source": [
        "# We will use naive permutation method in which we will search for all possible combination and cache the minimum cost of travelling\n",
        "\n",
        "from sys import maxsize\n",
        "from itertools import permutations\n",
        "\n",
        "\n",
        "#ABCDE is same as BCDEA therefore we canm start with any city\n",
        "#But the combination of the next n-1 cities will play a significant role in decision making\n",
        "\n",
        "#dist map will help ascertain the cost of paths \n",
        "#dist is a list of list and can be though as graph structure\n",
        "\n",
        "\n",
        "src=0\n",
        "\n",
        "cost=maxsize\n",
        "best_path=None\n",
        "\n",
        "\n",
        "dist=np.array(dist)\n",
        "N=dist.shape[0]\n",
        "cities_to_visit=[i for i in range(N) if i !=src]\n",
        "\n",
        "lt_permutations=list(permutations(cities_to_visit))\n",
        "print(lt_permutations[0])\n",
        "for paths in lt_permutations:\n",
        "  temp_cost=0\n",
        "  start=src\n",
        "  for city_idx in paths:\n",
        "    dt=dist[start][city_idx]\n",
        "    start=city_idx\n",
        "    temp_cost+=dt\n",
        "  temp_cost+=dist[start][src]#need to complete the loop go back to the first city\n",
        "  \n",
        "  if temp_cost<cost:\n",
        "    best_path=[src]+list(paths)\n",
        "    cost=temp_cost\n",
        "\n",
        "\n",
        "\n",
        "\n",
        "\n"
      ],
      "metadata": {
        "colab": {
          "base_uri": "https://localhost:8080/"
        },
        "id": "fBWOdPLvzTsh",
        "outputId": "d771b764-9fcf-46f1-8c75-fa4e9072af0c"
      },
      "execution_count": 26,
      "outputs": [
        {
          "output_type": "stream",
          "name": "stdout",
          "text": [
            "(1, 2, 3)\n"
          ]
        }
      ]
    },
    {
      "cell_type": "code",
      "source": [
        "list(best_path)"
      ],
      "metadata": {
        "colab": {
          "base_uri": "https://localhost:8080/"
        },
        "id": "FUnRzn7U2EQL",
        "outputId": "943392c3-d40b-4e8a-8492-519105c02114"
      },
      "execution_count": 27,
      "outputs": [
        {
          "output_type": "execute_result",
          "data": {
            "text/plain": [
              "[0, 1, 3, 2]"
            ]
          },
          "metadata": {},
          "execution_count": 27
        }
      ]
    },
    {
      "cell_type": "code",
      "source": [
        "cost"
      ],
      "metadata": {
        "colab": {
          "base_uri": "https://localhost:8080/"
        },
        "id": "PMp-yVM32UYA",
        "outputId": "0c595a46-5302-40cf-e7fc-c359b12027e3"
      },
      "execution_count": 28,
      "outputs": [
        {
          "output_type": "execute_result",
          "data": {
            "text/plain": [
              "80"
            ]
          },
          "metadata": {},
          "execution_count": 28
        }
      ]
    },
    {
      "cell_type": "code",
      "source": [
        ""
      ],
      "metadata": {
        "id": "tSzKZJcX2VmL"
      },
      "execution_count": null,
      "outputs": []
    }
  ]
}